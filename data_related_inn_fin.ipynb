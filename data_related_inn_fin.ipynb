{
 "cells": [
  {
   "cell_type": "markdown",
   "metadata": {},
   "source": [
    "<div style=\"text-align:center; background-color:#f0f0f0; padding:20px; border-radius:10px;\">\n",
    "    <h1 style=\"font-family: 'Segoe UI', Tahoma, Geneva, Verdana, sans-serif; color:#333; font-size:3em; font-weight:bold;\">Data-related Innovation in Finance</h1>\n",
    "    <p style=\"font-family: 'Garamond', serif; font-size:1.5em; color:#555; margin-top:0;\">Personal Analysis of Stocks & Cryptocurrencies</p>\n",
    "    <p style=\"font-family: 'Arial', sans-serif; font-size:1.2em; color:#777; margin-top:0;\">Author: Antoine BUFFANDEAU</p>\n",
    "</div>"
   ]
  },
  {
   "cell_type": "markdown",
   "metadata": {},
   "source": [
    "<div class=\"alert alert-block alert-info\" style = \"font-family: Cambria Math;font-size: 115%; color: black; background-color: #e6f9ff; border: dashed black 1.0px; padding: 3.5px\" >\n",
    "The rendering (display/design) of this notebbok <b>doesn't function</b> properly on </b>Google Collab!</b>  \n",
    "Please open it on Visual Studio Code for better rendering.\n",
    "</div>"
   ]
  },
  {
   "cell_type": "markdown",
   "metadata": {},
   "source": [
    "<div style=\"font-family: Cambria; font-weight:bold; letter-spacing: 0px; color:black; font-size:120%; text-align:left;padding:3.0px; background: #cceeff; border-bottom: 8px solid #004466\">\n",
    "\n",
    "## TABLE OF CONTENTS\n",
    "\n",
    "</div>\n",
    "\n",
    "* [PACKAGE IMPORTS](#1)\n",
    "* [Network Analysis of Stocks](#2)\n",
    "    * [Importation of CAC40 component historical data from 2018 to 2023](#2a)\n",
    "* [Network Analysis of Cryptocurrencies](#3)\n",
    "* [Modelling and Assessing Financial Contagion and Stability](#4)"
   ]
  },
  {
   "cell_type": "markdown",
   "metadata": {},
   "source": [
    "<a id=\"1\"></a>\n",
    "# <div style= \"font-family: Cambria; font-weight:bold; letter-spacing: 0px; color:#ffffff; font-size:120%; text-align:left;padding:3.0px; background: #003380; border-bottom: 10px solid #80ffff\">PACKAGE IMPORTS<br></div>"
   ]
  },
  {
   "cell_type": "code",
   "execution_count": 1,
   "metadata": {},
   "outputs": [],
   "source": [
    "import yfinance as yf\n",
    "import pandas as pd\n",
    "import numpy as np\n",
    "import networkx as nx\n",
    "import matplotlib.pyplot as plt"
   ]
  },
  {
   "cell_type": "markdown",
   "metadata": {},
   "source": [
    "<a id=\"2\"></a>\n",
    "# <div style= \"font-family: Cambria; font-weight:bold; letter-spacing: 0px; color:#ffffff; font-size:120%; text-align:left;padding:3.0px; background: #003380; border-bottom: 10px solid #80ffff\">Network Analysis of Stocks<br></div>"
   ]
  },
  {
   "cell_type": "markdown",
   "metadata": {},
   "source": [
    "<a id=\"2a\"></a>\n",
    "## <div style=\"font-family: Cambria; font-weight:bold; letter-spacing: 0px; color:#ffffff; font-size:120%; text-align:left; padding:3.0px; background: #6495ED; border-bottom: 10px solid #80ffff\">Importation of CAC40 component historical data from 2018 to 2023<br></div>"
   ]
  },
  {
   "cell_type": "markdown",
   "metadata": {},
   "source": [
    "| Companies                        | Ticker Yahoo       | 2018 | 2019 | 2020 | 2021 | 2022 | 2023 | 2024 |\n",
    "|------------------------------------|--------------------|------|------|------|------|------|------|------|\n",
    "| Accor                              | AC.PA              | X    | X    | X    | X    | X    | X    | X    |\n",
    "| Airbus                             | AIR.PA             | X    | X    | X    | X    | X    | X    | X    |\n",
    "| Air Liquide                        | AI.PA              | X    | X    | X    | X    | X    | X    | X    |\n",
    "| Alstom                             | ALO.PA             | X    | X    | X    | X    | X    | X    | X    |\n",
    "| ArcelorMittal                      | MT.AS              | X    | X    | X    | X    |      |      |      |\n",
    "| Atos                               | ATO.PA             | X    | X    | X    | X    |      |      |      |\n",
    "| Axa                                | CS.PA              | X    | X    | X    | X    | X    | X    | X    |\n",
    "| BNP Paribas                        | BNP.PA             | X    | X    | X    | X    | X    | X    | X    |\n",
    "| Bouygues                           | EN.PA              | X    | X    | X    | X    | X    | X    | X    |\n",
    "| Capgemini                          | CAP.PA             | X    | X    | X    | X    | X    | X    | X    |\n",
    "| Carrefour                          | CA.PA              | X    | X    | X    | X    | X    | X    | X    |\n",
    "| Crédit Agricole                    | ACA.PA             | X    | X    | X    | X    | X    | X    | X    |\n",
    "| Danone                             | BN.PA              | X    | X    | X    | X    | X    | X    | X    |\n",
    "| Dassault Systèmes                  | DSY.PA             | X    | X    | X    | X    | X    | X    | X    |\n",
    "| Engie                              | ENGI.PA            | X    | X    | X    | X    | X    | X    | X    |\n",
    "| Essilor/EssilorLuxottica           | EL.PA              | X    | X    | X    | X    | X    | X    | X    |\n",
    "| Hermès                             | RMS.PA             | X    | X    | X    | X    | X    | X    | X    |\n",
    "| Kering                             | KER.PA             | X    | X    | X    | X    | X    | X    | X    |\n",
    "| L’Oréal                            | OR.PA              | X    | X    | X    | X    | X    | X    | X    |\n",
    "| Legrand                            | LR.PA              | X    | X    | X    | X    | X    | X    | X    |\n",
    "| LVMH                               | MC.PA              | X    | X    | X    | X    | X    | X    | X    |\n",
    "| Michelin                           | ML.PA              | X    | X    | X    | X    | X    | X    | X    |\n",
    "| Orange                             | ORA.PA             | X    | X    | X    | X    | X    | X    | X    |\n",
    "| Pernod Ricard                      | RI.PA              | X    | X    | X    | X    | X    | X    | X    |\n",
    "| Peugeot                            | UG.PA              | X    |      |      |      |      |      |      |\n",
    "| Publicis                           | PUB.PA             | X    | X    | X    | X    | X    | X    | X    |\n",
    "| Renault                            | RNO.PA             | X    | X    | X    | X    | X    | X    | X    |\n",
    "| Safran                             | SAF.PA             | X    | X    | X    | X    | X    | X    | X    |\n",
    "| Saint-Gobain                       | SGO.PA             | X    | X    | X    | X    | X    | X    | X    |\n",
    "| Sanofi                             | SAN.PA             | X    | X    | X    | X    | X    | X    | X    |\n",
    "| Schneider Electric                 | SU.PA              | X    | X    | X    | X    | X    | X    | X    |\n",
    "| Société Générale                   | GLE.PA             | X    | X    | X    | X    | X    | X    | X    |\n",
    "| Solvay                             | SOLB.BR            | X    | X    |      |      |      |      |      |\n",
    "| STMicroelectronics                 | STMPA.PA             | X    | X    | X    | X    | X    | X    | X    |\n",
    "| TechnipFMC                         | FTI.PA             | X    | X    | X    |      |      |      |      |\n",
    "| Thales                             | HO.PA              | X    | X    | X    | X    | X    | X    | X    |\n",
    "| Total/TotalEnergies                | TTE.PA             | X    | X    | X    | X    | X    | X    | X    |\n",
    "| Unibail-Rodamco-Westfield          | URW.PA             | X    | X    | X    | X    | X    | X    | X    |\n",
    "| Valeo                              | FR.PA              | X    | X    | X    | X    | X    | X    | X    |\n",
    "| Veolia                             | VIE.PA             | X    | X    | X    | X    | X    | X    | X    |\n",
    "| Vinci                              | DG.PA              |      | X(N) | X    | X    | X    | X    | X    |\n",
    "| Worldline                          | WLN.PA             |      |      | X(N) | X    | X    | X    | X    |\n",
    "| Teleperformance                    | TEP.PA             |      |      | X(N) | X    | X    | X    | X    |\n",
    "| Eurofins Scientific                | ERF.PA             |      |      |      | X(N) | X    | X    | X    |\n",
    "| Stellantis                         | STLA.PA            |      |      |      |      | X(N) | X    | X    |\n",
    "\n",
    "\n",
    "Comments : \n",
    "\n",
    "X : Indicates that the company was part of the CAC40 in that year ;\n",
    "\n",
    "(N) : Indicates that a company entered the CAC40 for that year."
   ]
  },
  {
   "cell_type": "code",
   "execution_count": 2,
   "metadata": {},
   "outputs": [],
   "source": [
    "#I have arbitrarily chosen here to select only the stock names that remained in the CAC40 list from 2018 to 2023.\n",
    "cac40_tickers = [\n",
    "    'AC.PA',   # Accor\n",
    "    'AI.PA',   # Air Liquide\n",
    "    'AIR.PA',  # Airbus\n",
    "    'ALO.PA',  # Alstom\n",
    "    'BNP.PA',  # BNP Paribas\n",
    "    'EN.PA',   # Bouygues\n",
    "    'CAP.PA',  # Capgemini\n",
    "    'CA.PA',   # Carrefour\n",
    "    'ACA.PA',  # Crédit Agricole\n",
    "    'BN.PA',   # Danone\n",
    "    'DSY.PA',  # Dassault Systèmes\n",
    "    'ENGI.PA', # Engie\n",
    "    'EL.PA',   # EssilorLuxottica\n",
    "    'RMS.PA',  # Hermès\n",
    "    'KER.PA',  # Kering\n",
    "    'OR.PA',   # L'Oréal\n",
    "    'LR.PA',   # Legrand\n",
    "    'MC.PA',   # LVMH\n",
    "    'ML.PA',   # Michelin\n",
    "    'ORA.PA',  # Orange\n",
    "    'PUB.PA',  # Publicis\n",
    "    'RI.PA',   # Pernod Ricard\n",
    "    'SGO.PA',  # Saint-Gobain\n",
    "    'SAN.PA',  # Sanofi\n",
    "    'SU.PA',   # Schneider Electric\n",
    "    'GLE.PA',  # Société Générale\n",
    "    'STMPA.PA',  # STMicroelectronics\n",
    "    'HO.PA',   # Thales\n",
    "    'URW.PA',  # Unibail-Rodamco-Westfield\n",
    "    'FR.PA',   # Valeo\n",
    "    'VIE.PA',  # Veolia\n",
    "]"
   ]
  },
  {
   "cell_type": "code",
   "execution_count": 3,
   "metadata": {},
   "outputs": [
    {
     "name": "stderr",
     "output_type": "stream",
     "text": [
      "[*********************100%***********************]  31 of 31 completed\n"
     ]
    }
   ],
   "source": [
    "data = yf.download(cac40_tickers, start='2018-01-01', end='2023-12-31')['Adj Close']"
   ]
  }
 ],
 "metadata": {
  "kernelspec": {
   "display_name": "Python 3",
   "language": "python",
   "name": "python3"
  },
  "language_info": {
   "codemirror_mode": {
    "name": "ipython",
    "version": 3
   },
   "file_extension": ".py",
   "mimetype": "text/x-python",
   "name": "python",
   "nbconvert_exporter": "python",
   "pygments_lexer": "ipython3",
   "version": "3.11.8"
  }
 },
 "nbformat": 4,
 "nbformat_minor": 2
}
